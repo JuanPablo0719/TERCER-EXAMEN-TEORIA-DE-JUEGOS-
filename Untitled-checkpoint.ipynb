{
 "cells": [
  {
   "cell_type": "markdown",
   "id": "de98be6f",
   "metadata": {},
   "source": [
    "# Tercer Examen Parcial\n",
    "\n",
    "**Nombre:** Juan Pablo Dominguez \n",
    "\n",
    "## Ejercicio 1\n",
    "\n",
    "a. ¿Cuántos subjuegos tiene el siguiente juego de forma extensiva con jugadores E y S?\n",
    "######  4\n",
    "\n",
    "b. ¿Es un juego de información perfecta o imperfecta? ¿Por qué?\n",
    "##### Es un juego de información imperfecta porque S no sabe si E ha elegido la estrategia E o NE. \n",
    "\n",
    "c. Con c = 30 y b = 10, resuelve con el método que creas conveniente para determinar:\n",
    "\n",
    "##### ENSP1 = {(NDb, Dr), (NDr,Dr)} \n",
    "##### ENSP2 = {NDb, Dr, (NDr,Dr), (Ddr,BI )}\n",
    "\n",
    "- El perfil de estrategias de EN en subjuegos perfectos.\n",
    "- Las ganancias del EN y una recomendación para los jugadores con base en las ganancias.\n",
    "\n",
    "|     | BI        | Dr        |\n",
    "| --- | --------- | --------- |\n",
    "| ND  | 10/3, 20/3 | 10/3, 20/3 |\n",
    "| D   | 5, 5      | 0, 10     |\n",
    " \n",
    "##### DEJAR QUE EL JUGADOR UNPO JUEGUE “ND” YA QUE LE CONVIENE A LOS DOS POR LA RECOMPENSA \n",
    "\n",
    "SUBJUEGO 1 \n",
    "|     | BI        | DR        |\n",
    "| --- | --------- | --------- |\n",
    "| ND  | 10/3, 20/3 | 10/3, 20/3 |\n",
    "| D   | 10, 0     | 0, 10    |\n",
    "\n",
    "##### ENSP1 = {(ND, Dr)}\n",
    "\n",
    "##### V1(10/3, 20/3) = 10/3\n",
    "##### V2(10/3, 20/3) = 20/3\n",
    "\n",
    "SUBJUEGO 2 \n",
    "|     | BI        | DR        |\n",
    "| --- | --------- | --------- |\n",
    "| ND  | 10/3, 20/3 | 10/3, 20/3 |\n",
    "| D   | 0, 10     | 10, 0    |\n",
    "\n",
    "ENSP2 = {(ND)}\n",
    "\n",
    "##### V1(10/3, 20/3) = 10/3\n",
    "##### V2(10/3, 20/3) = 20/3\n"
   ]
  },
  {
   "cell_type": "markdown",
   "id": "061df62b",
   "metadata": {},
   "source": [
    "2. 2.\tConsiderar un mercado en donde una compañía es monopolio (E1), una segunda compañía (E2) desea entrar a dicho mercado. El desafío de E1 es disuadir a cualquier compañía entrante.\n",
    "Si la compañía establecida desea seguir en monopolio, supongamos que tendría una ganancia de 1000. Supongamos que, si E2 entra, E1 puede diseñar una estrategia de competencia de escoger un precio de tres formas posibles: bajo (L), moderado (M) y alto (H), como se muestra en la siguiente figura.\n"
   ]
  },
  {
   "cell_type": "markdown",
   "id": "6ca615a9",
   "metadata": {},
   "source": [
    "\\begin{array}{|c|c|c|c|c|c|}\n",
    "\\hline\n",
    "& \\text{EL} & \\text{EM} & \\text{EH} & \\text{NEI} & \\text{NEM} & \\text{NEH} \\\\\n",
    "\\hline\n",
    "\\text{L} & -50,300 & 0,325 & 50,250 & 0,1000 & 0,1000 & 0,1000 \\\\\n",
    "\\hline\n",
    "\\text{M} & -25,350 & 50,500 & 150,325 & 0,1000 & 0,1000 & 0,1000 \\\\\n",
    "\\hline\n",
    "\\text{H} & -100,400 & -25,500 & 100,450 & 0,1000 & 0,1000 & 0,1000 \\\\\n",
    "\\hline\n",
    "\\end{array}"
   ]
  },
  {
   "cell_type": "markdown",
   "id": "267243b3",
   "metadata": {},
   "source": [
    "# Estrategias\n",
    "E1_strategies = [\"E\", \"NE\"]\n",
    "E2_strategies = [\"L\", \"M\", \"H\"]\n",
    "\n",
    "# Pagos por jugador\n",
    "E1_payoffs = [0, 1000]\n",
    "E2_payoffs = [(-50, 300), (0, 325), (50, 250), (0, 1000), (0, 1000), (0, 1000)]"
   ]
  },
  {
   "cell_type": "markdown",
   "id": "9fa51d72",
   "metadata": {},
   "source": [
    "#### ENEP = {(L, NEL), (L, NEM), (L, NEH), (M, NEL) , (M,NEM) , (M,NEH) , (H,NEL) , (H, NEM) , (H,NEH)} = 9. \n",
    "#### V1 (0,1000) = 0 \n",
    "#### V2(0,1000) = 1000"
   ]
  },
  {
   "cell_type": "markdown",
   "id": "74ae3bac",
   "metadata": {},
   "source": [
    "### subjuego 1"
   ]
  },
  {
   "cell_type": "markdown",
   "id": "c3dbe0cb",
   "metadata": {},
   "source": [
    "$$\n",
    "\\begin{array}{c|cc}\n",
    " & E & NE \\\\ \n",
    "\\hline \n",
    "L & -100,400 & 0,1000 \\\\ \n",
    "M & -25,500 & 0,1000 \\\\\n",
    "H & 100,450 & 0,1000 \\\\ \n",
    "\\end{array}\n",
    "$$\n",
    "\n"
   ]
  },
  {
   "cell_type": "markdown",
   "id": "de074687",
   "metadata": {},
   "source": [
    "\n",
    "\n",
    "$ENEP = {(L, NE), (M , NE), (H, NE)} \\rightarrow 3 \\rightarrow ENEP=9$\n",
    "\n",
    "$V1(0, 1000) = 0$\n",
    "\n",
    "$V2(0, 1000) = 1000$"
   ]
  },
  {
   "cell_type": "markdown",
   "id": "66681731",
   "metadata": {},
   "source": [
    "$$\n",
    "\\begin{array}{c|cc}\n",
    " & E & NE \\\\ \n",
    "\\hline \n",
    " & -100,400 & 0,1000 \\\\ \n",
    " &  &  \\\\\n",
    " &  &  \\\\ \n",
    "\\end{array}\n",
    "$$\n"
   ]
  },
  {
   "cell_type": "markdown",
   "id": "ff421edd",
   "metadata": {},
   "source": [
    "\n",
    "\n",
    "ENSP 2 = \\{( , NE)\\} $\\to$ ``ENEP\" = 9 \n",
    "\n",
    "V1(0, 1000) = 0 \n",
    "\n",
    "V2(0, 1000) = 1000"
   ]
  },
  {
   "cell_type": "markdown",
   "id": "243a26d2",
   "metadata": {},
   "source": [
    "# 3.\tElabora un resumen del artículo GUERRA Y PAZ de Robert J. Aumann. Este resumen debe contener\n",
    "-\tUna portada profesional\n",
    "-\tUn análisis del contenido del artículo (al menos 3 cuartillas)\n",
    "-\tOpiniones individuales de cada integrante del equipo (1/2 cuartilla por cada integrante) añade a tu ½ cuartilla, tu opinión al respecto de lo que tu compañero opina.\n"
   ]
  },
  {
   "cell_type": "markdown",
   "id": "245616ff",
   "metadata": {},
   "source": [
    "## Resumen del Articulo \"Guerra y Paz\""
   ]
  },
  {
   "cell_type": "markdown",
   "id": "5edd0a85",
   "metadata": {},
   "source": [
    "Como matemático y economista, Aumann es conocido por su trabajo en la teoría de juegos y la toma de decisiones. En particular, ha desarrollado modelos para analizar cómo las personas toman decisiones en situaciones en las que hay incertidumbre o riesgo. También ha estudiado cómo las personas pueden cooperar en juegos de suma cero y no suma cero, y cómo las relaciones de confianza y reciprocidad pueden mejorar la cooperación.\n",
    "\n",
    "En su trabajo político, Aumann ha abogado por la paz en Oriente Medio. Él cree que la paz duradera sólo puede lograrse a través de negociaciones basadas en la confianza y la cooperación mutua, en lugar de la fuerza y la coerción. Aumann ha criticado tanto la estrategia militar como la estrategia de concesiones unilaterales en el conflicto entre Israel y Palestina, y ha abogado por soluciones que impliquen compromisos mutuos y un enfoque a largo plazo.\n",
    "\n",
    "En general, el trabajo de Aumann se centra en el análisis de cómo las personas toman decisiones y se relacionan entre sí, tanto en situaciones teóricas como en la vida real. Sus ideas y modelos han tenido un impacto significativo en la teoría económica y política, y también en la comprensión de cómo podemos trabajar juntos para lograr objetivos comunes.\n",
    "\n",
    "El artículo \"Guerra y Paz\" escrito por Robert J. Aumann, premio Nobel de Economía en 2005 por su análisis en clave de teoría de juegos del conflicto y la cooperación, se adentra en una de las cuestiones más profundas y apremiantes a las que se enfrenta la humanidad: la guerra y la paz.\n",
    "Desde los albores de la civilización, la guerra ha sido una constante en la historia de la humanidad, y aunque los esfuerzos realizados para resolver conflictos específicos son laudables y a veces dan sus frutos, la guerra y otros conflictos continúan siendo una de las principales causas de la miseria humana.\n",
    "\n",
    "\n",
    "El autor comienza por definir la racionalidad como la conducta de una persona que actúa en función de lo mejor para sus intereses, dada su información. Luego, se plantea la pregunta de si la guerra puede ser racional y lamentablemente la respuesta es sí, la guerra puede ser racional. El error es decir que la guerra es irracional cuando realmente es posible analizarla desde una perspectiva económica y de incentivos.\n",
    "\n",
    "En este sentido, el autor propone un análisis económico de la guerra a través de los incentivos que la llevan a cabo y el establecimiento de incentivos que la prevengan. Para ello, utiliza la teoría de juegos, una rama de la economía que estudia las decisiones de los individuos que interactúan estratégicamente.\n",
    "\n",
    "Los juegos repetidos son un modelo que sirve para modelar las interacciones de largo plazo. En este tipo de juegos, el equilibrio estratégico expresa fenómenos tales como el altruismo, la cooperación, la confianza, la lealtad, la venganza, la amenaza, entre otros.\n",
    " \n",
    "La repetición hace posible la cooperación, ya que permite establecer un equilibrio estratégico que garantice un resultado cooperativo. El término cooperativo se refiere a cualquier resultado posible de un juego, siempre y cuando ningún jugador pueda garantizar el mejor resultado para sí mismo.\n",
    "\n",
    "La causa de que, aunque no se puedan lograr un equilibrio, sean interesantes los resultados cooperativos, es que se pueden lograr por medio de contrato. La idea fundamental es que la repetición es como un mecanismo de refuerzo, que hace posible la aparición de resultados cooperativos en equilibrio, cuando todo el mundo está actuando según lo que más le conviene.\n",
    "\n",
    "La gente es mucho más cooperativa en una relación de largo plazo. Saben que hay un mañana, que en el futuro se castigará la conducta inapropiada. Lo que está manteniendo el equilibrio en estos juegos es la amenaza de castigo. Si lo deseas, llámalo DMA (destrucción mutua asegurada), el lema de la guerra fría.\n",
    "\n",
    "El teorema popular establece que los resultados cooperativos de un juego repetido coinciden con los resultados de equilibrio de su súper juego. La teoría de los juegos cooperativos consiste no solo en describir todos los posibles resultados cooperativos, sino también en elegir entre ellos.\n",
    "\n",
    "En conclusión, el autor afirma que el análisis económico de la guerra nos permite entender que la guerra puede ser racional, pero también nos permite establecer incentivos que la prevengan. La repetición de los juegos es un mecanismo de refuerzo\n",
    "\n"
   ]
  },
  {
   "cell_type": "markdown",
   "id": "e5a7f59c",
   "metadata": {},
   "source": [
    "# Resumen de mi compañero "
   ]
  },
  {
   "cell_type": "markdown",
   "id": "9f817e24",
   "metadata": {},
   "source": [
    "El discurso trata sobre la importancia de estudiar la guerra y sus causas para lograr la paz mundial. El autor propone que en lugar de enfocarse únicamente en la resolución de conflictos específicos, se debería estudiar la guerra en general y definir sus características, buscando comprender por qué el ser humano va a la guerra. El autor considera que este enfoque de estudio puede ser la base para una ciencia básica que eventualmente pueda llevar a la paz.\n",
    "\n"
   ]
  }
 ],
 "metadata": {
  "kernelspec": {
   "display_name": "Python 3 (ipykernel)",
   "language": "python",
   "name": "python3"
  },
  "language_info": {
   "codemirror_mode": {
    "name": "ipython",
    "version": 3
   },
   "file_extension": ".py",
   "mimetype": "text/x-python",
   "name": "python",
   "nbconvert_exporter": "python",
   "pygments_lexer": "ipython3",
   "version": "3.9.13"
  }
 },
 "nbformat": 4,
 "nbformat_minor": 5
}
